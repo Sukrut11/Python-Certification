{
 "cells": [
  {
   "cell_type": "code",
   "execution_count": null,
   "metadata": {},
   "outputs": [],
   "source": [
    "#get sentence from user#\n",
    "original=input(\"Write something here: \").strip().lower()\n",
    "#split sentence into words#\n",
    "words=original.split()\n",
    "#loop through words and connvert to pig latin#\n",
    "new_words=[]\n",
    "for word in words:\n",
    "    print(word)\n",
    "#if start with vowel, just add yay#\n",
    "if word[0] in \"aeiou\":\n",
    "    new_word=word+\"yay\"\n",
    "else:\n",
    "    vowel_pos=0\n",
    "    for letter in word:\n",
    "        if letter not in \"aeiou\":\n",
    "            vowel_pos=vowel_pos+1\n",
    "        else:\n",
    "            break\n",
    "    cons=word[:vowel_pos]\n",
    "    rest=word[vowel_pos: ]\n",
    "    new_word= rest+cons+\"yay\"\n",
    "    new_words.append(new_word)\n",
    "    print(new_words)"
   ]
  }
 ],
 "metadata": {
  "kernelspec": {
   "display_name": "Python 3",
   "language": "python",
   "name": "python3"
  },
  "language_info": {
   "codemirror_mode": {
    "name": "ipython",
    "version": 3
   },
   "file_extension": ".py",
   "mimetype": "text/x-python",
   "name": "python",
   "nbconvert_exporter": "python",
   "pygments_lexer": "ipython3",
   "version": "3.8.5"
  }
 },
 "nbformat": 4,
 "nbformat_minor": 4
}
