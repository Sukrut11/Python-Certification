{
 "cells": [
  {
   "cell_type": "code",
   "execution_count": null,
   "metadata": {},
   "outputs": [],
   "source": [
    "known_users=[\"Rob\",\"Alice\",\"Zeta\",\"Tom\",\"Julie\"]\n",
    "print(len(known_users))\n",
    "while True:\n",
    "    print(\"Hii!! My name is Travis!!\")\n",
    "    name=input(\"What is your name?: \").strip().capitalize()\n",
    "    if name in known_users:\n",
    "        print(\"Hare Krishna {}\".format(name))\n",
    "        remove=input(\"Would you like to be removed from system (y/n)?\").strip().lower()\n",
    "        if remove==\"y\":\n",
    "            known_users.remove(name)\n",
    "            print(known_users)\n",
    "        elif remove==\"n\":\n",
    "            print(\"Thank you!!\")\n",
    "\n",
    "    else:\n",
    "         print(\"I dont know you yet {}!\".format(name))\n",
    "         add_me=input(\"Would you like to be added to the system (y/n)?\").strip().lower()\n",
    "         if add_me==\"y\":\n",
    "             known_users.append(name)\n",
    "             print(known_users)\n",
    "         else:\n",
    "             print(\"Love to meet you soon!!\")"
   ]
  }
 ],
 "metadata": {
  "kernelspec": {
   "display_name": "Python 3",
   "language": "python",
   "name": "python3"
  },
  "language_info": {
   "codemirror_mode": {
    "name": "ipython",
    "version": 3
   },
   "file_extension": ".py",
   "mimetype": "text/x-python",
   "name": "python",
   "nbconvert_exporter": "python",
   "pygments_lexer": "ipython3",
   "version": "3.8.5"
  }
 },
 "nbformat": 4,
 "nbformat_minor": 4
}
