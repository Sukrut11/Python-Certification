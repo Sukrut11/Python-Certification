{
 "cells": [
  {
   "cell_type": "code",
   "execution_count": null,
   "metadata": {},
   "outputs": [],
   "source": [
    "#Ask User Name#\n",
    "name=input(\"Give your Name: \")\n",
    "#Ask user for age#\n",
    "age=input(\"What is your Age: \")\n",
    "#Ask user where they live#\n",
    "City=input(\"Where do you live: \")\n",
    "#Ask user what they enjoy#\n",
    "hobby=input(\"What do you enjoy: \")\n",
    "#Create output text#\n",
    "string=\"Your name is {}, you live in {} and your age is {} and you love to {}\"\n",
    "output=string.format(name,City,age,hobby)\n",
    "#Print output to screen#\n",
    "print(output)"
   ]
  }
 ],
 "metadata": {
  "kernelspec": {
   "display_name": "Python 3",
   "language": "python",
   "name": "python3"
  },
  "language_info": {
   "codemirror_mode": {
    "name": "ipython",
    "version": 3
   },
   "file_extension": ".py",
   "mimetype": "text/x-python",
   "name": "python",
   "nbconvert_exporter": "python",
   "pygments_lexer": "ipython3",
   "version": "3.8.5"
  }
 },
 "nbformat": 4,
 "nbformat_minor": 4
}
