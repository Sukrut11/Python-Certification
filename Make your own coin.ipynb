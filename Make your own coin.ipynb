{
 "cells": [
  {
   "cell_type": "code",
   "execution_count": 63,
   "id": "d1c68e96",
   "metadata": {},
   "outputs": [],
   "source": [
    "import random\n",
    "class Pound:\n",
    "    def __int__(self, rare= False):\n",
    "        self.rare= True\n",
    "        \n",
    "        if self.rare:\n",
    "            self.value= 1.25\n",
    "        else:\n",
    "            self.value= 1.00\n",
    "        self.color= \"Gold\"\n",
    "        self.num_edges= 1\n",
    "        self.diameter= 22.5 #mm\n",
    "        self.thickness= 3.15 #mm\n",
    "        self.heads= True\n",
    "        \n",
    "    def __del__(self):\n",
    "        print(\"Coin Spent\")\n",
    "        \n",
    "    def rust(self):\n",
    "        self.color= \"Greenish\"\n",
    "\n",
    "    def clean(self):\n",
    "        self.color= \"Gold\"\n",
    "        \n",
    "    def flip(self):\n",
    "        head_options= [True, False]\n",
    "        choice= random.choice(head_options)\n",
    "        self.heads= choice"
   ]
  },
  {
   "cell_type": "code",
   "execution_count": 67,
   "id": "3dd42620",
   "metadata": {},
   "outputs": [],
   "source": [
    "coin1= Pound()"
   ]
  },
  {
   "cell_type": "code",
   "execution_count": 45,
   "id": "0aeb1bbb",
   "metadata": {},
   "outputs": [],
   "source": [
    "coin2= Pound()"
   ]
  },
  {
   "cell_type": "code",
   "execution_count": 46,
   "id": "5e7c98de",
   "metadata": {},
   "outputs": [],
   "source": [
    "coin2.rust()"
   ]
  },
  {
   "cell_type": "code",
   "execution_count": 47,
   "id": "e4cd2019",
   "metadata": {},
   "outputs": [
    {
     "data": {
      "text/plain": [
       "'Greenish'"
      ]
     },
     "execution_count": 47,
     "metadata": {},
     "output_type": "execute_result"
    }
   ],
   "source": [
    "coin2.color"
   ]
  },
  {
   "cell_type": "code",
   "execution_count": 48,
   "id": "c85d0440",
   "metadata": {},
   "outputs": [],
   "source": [
    "coin2.clean()"
   ]
  },
  {
   "cell_type": "code",
   "execution_count": 49,
   "id": "30f82ffe",
   "metadata": {},
   "outputs": [
    {
     "data": {
      "text/plain": [
       "'Gold'"
      ]
     },
     "execution_count": 49,
     "metadata": {},
     "output_type": "execute_result"
    }
   ],
   "source": [
    "coin2.color"
   ]
  },
  {
   "cell_type": "code",
   "execution_count": 56,
   "id": "438a0d85",
   "metadata": {},
   "outputs": [],
   "source": [
    "coin2.flip()"
   ]
  },
  {
   "cell_type": "code",
   "execution_count": 57,
   "id": "a025532f",
   "metadata": {},
   "outputs": [
    {
     "data": {
      "text/plain": [
       "True"
      ]
     },
     "execution_count": 57,
     "metadata": {},
     "output_type": "execute_result"
    }
   ],
   "source": [
    "coin2.heads"
   ]
  },
  {
   "cell_type": "code",
   "execution_count": 71,
   "id": "47dbb2e9",
   "metadata": {},
   "outputs": [],
   "source": [
    "coin3= Pound()"
   ]
  },
  {
   "cell_type": "code",
   "execution_count": 72,
   "id": "9e53ef66",
   "metadata": {},
   "outputs": [],
   "source": [
    "del coin3"
   ]
  },
  {
   "cell_type": "code",
   "execution_count": 73,
   "id": "2ed26360",
   "metadata": {},
   "outputs": [
    {
     "ename": "NameError",
     "evalue": "name 'coin3' is not defined",
     "output_type": "error",
     "traceback": [
      "\u001b[1;31m---------------------------------------------------------------------------\u001b[0m",
      "\u001b[1;31mNameError\u001b[0m                                 Traceback (most recent call last)",
      "\u001b[1;32m<ipython-input-73-54f8808ce1d4>\u001b[0m in \u001b[0;36m<module>\u001b[1;34m\u001b[0m\n\u001b[1;32m----> 1\u001b[1;33m \u001b[0mcoin3\u001b[0m\u001b[1;33m\u001b[0m\u001b[1;33m\u001b[0m\u001b[0m\n\u001b[0m",
      "\u001b[1;31mNameError\u001b[0m: name 'coin3' is not defined"
     ]
    }
   ],
   "source": [
    "coin3"
   ]
  },
  {
   "cell_type": "code",
   "execution_count": null,
   "id": "74f7b98f",
   "metadata": {},
   "outputs": [],
   "source": []
  }
 ],
 "metadata": {
  "kernelspec": {
   "display_name": "Python 3",
   "language": "python",
   "name": "python3"
  },
  "language_info": {
   "codemirror_mode": {
    "name": "ipython",
    "version": 3
   },
   "file_extension": ".py",
   "mimetype": "text/x-python",
   "name": "python",
   "nbconvert_exporter": "python",
   "pygments_lexer": "ipython3",
   "version": "3.8.8"
  }
 },
 "nbformat": 4,
 "nbformat_minor": 5
}
