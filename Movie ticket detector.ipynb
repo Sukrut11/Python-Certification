{
 "cells": [
  {
   "cell_type": "code",
   "execution_count": null,
   "metadata": {},
   "outputs": [
    {
     "name": "stdout",
     "output_type": "stream",
     "text": [
      "Which film do you want to see: Hare Krishna\n",
      "Sorry we do not have the film yet....\n",
      "Which film do you want to see: \n",
      "Sorry we do not have the film yet....\n"
     ]
    }
   ],
   "source": [
    "films={\n",
    "    \"Finding Dory\": [3,5],\n",
    "    \"Roadmax\": [4,10],\n",
    "    \"Nemo\":[3,20],\n",
    "    \"Alice In Wonderland\":[5,30]\n",
    "    }\n",
    "while True:\n",
    "    choice=input(\"Which film do you want to see: \").strip().title() #title is used so that in finding dory F and D will be capital#\n",
    "    if choice in films:\n",
    "        age=int(input(\"How old are you? \").strip()) #number could be stored as a string, so int is used to convert the string into int value#\n",
    "         #To decide age#\n",
    "        if age>=films[choice][0]:\n",
    "            #To decide the no. of tickets left#\n",
    "            num_seats= films[choice][1]\n",
    "            if num_seats>0:\n",
    "               print(\"Enjoy the film!!\")\n",
    "               films[choice][1]= films[choice][1]-1\n",
    "            else:\n",
    "                print(\"We are sold out!!\")\n",
    "        else:\n",
    "                print(\"You are too young to watch this film!!\")\n",
    "    else:\n",
    "        print(\"Sorry we do not have the film yet....\")"
   ]
  },
  {
   "cell_type": "code",
   "execution_count": null,
   "metadata": {},
   "outputs": [],
   "source": []
  }
 ],
 "metadata": {
  "kernelspec": {
   "display_name": "Python 3",
   "language": "python",
   "name": "python3"
  },
  "language_info": {
   "codemirror_mode": {
    "name": "ipython",
    "version": 3
   },
   "file_extension": ".py",
   "mimetype": "text/x-python",
   "name": "python",
   "nbconvert_exporter": "python",
   "pygments_lexer": "ipython3",
   "version": "3.8.8"
  }
 },
 "nbformat": 4,
 "nbformat_minor": 4
}
