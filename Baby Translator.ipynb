{
 "cells": [
  {
   "cell_type": "code",
   "execution_count": 2,
   "metadata": {},
   "outputs": [
    {
     "name": "stdout",
     "output_type": "stream",
     "text": [
      "['Do you want to serve Krishna: ']just because\n",
      "Hari Bol!!\n"
     ]
    }
   ],
   "source": [
    "from random import choice\n",
    "questions=[\"Why are you here: \",[\"Do you want to serve Krishna: \"],[\"What next: \"]]\n",
    "question=choice(questions)\n",
    "answer=input(question).strip().lower()\n",
    "while answer!=\"just because\":\n",
    "    answer=input(\"Why?: \").strip().lower()\n",
    "print(\"Hari Bol!!\")"
   ]
  },
  {
   "cell_type": "code",
   "execution_count": null,
   "metadata": {},
   "outputs": [],
   "source": []
  }
 ],
 "metadata": {
  "kernelspec": {
   "display_name": "Python 3",
   "language": "python",
   "name": "python3"
  },
  "language_info": {
   "codemirror_mode": {
    "name": "ipython",
    "version": 3
   },
   "file_extension": ".py",
   "mimetype": "text/x-python",
   "name": "python",
   "nbconvert_exporter": "python",
   "pygments_lexer": "ipython3",
   "version": "3.8.5"
  }
 },
 "nbformat": 4,
 "nbformat_minor": 4
}
