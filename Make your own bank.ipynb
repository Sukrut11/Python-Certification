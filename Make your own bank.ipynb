{
 "cells": [
  {
   "cell_type": "code",
   "execution_count": 16,
   "id": "3b26e663",
   "metadata": {},
   "outputs": [],
   "source": [
    "class Account:\n",
    "    def __init__(self, name, balance, min_balance):\n",
    "        self.name= name\n",
    "        self.balance= balance\n",
    "        self.min_balance= min_balance\n",
    "        \n",
    "    def deposit(self, amount):\n",
    "        self.balance += amount\n",
    "    \n",
    "    def withdraw(self, amount):\n",
    "        if self.balance- amount >= self.min_balance:\n",
    "            self.balance -= amount\n",
    "        else:\n",
    "            print(\"Not enough funds\")\n",
    "    \n",
    "    def statement(self):\n",
    "        print(\"Account balance is: ₹{}\".format(self.balance))"
   ]
  },
  {
   "cell_type": "code",
   "execution_count": 23,
   "id": "bd58a47b",
   "metadata": {},
   "outputs": [],
   "source": [
    "class Current(Account):\n",
    "    def __init__(self, name, balance):\n",
    "        super().__init__(name, balance, min_balance= -1000)\n",
    "    \n",
    "    def __str__(self):\n",
    "        return \"{}'s current account balance is: ₹{}\".format(self.name, self.balance)"
   ]
  },
  {
   "cell_type": "code",
   "execution_count": 24,
   "id": "b9f31589",
   "metadata": {},
   "outputs": [],
   "source": [
    "x= Current(\"Sukrut\", 5000000)"
   ]
  },
  {
   "cell_type": "code",
   "execution_count": 25,
   "id": "77216065",
   "metadata": {},
   "outputs": [],
   "source": [
    "x.deposit(90000000)"
   ]
  },
  {
   "cell_type": "code",
   "execution_count": 26,
   "id": "d62199f3",
   "metadata": {},
   "outputs": [
    {
     "name": "stdout",
     "output_type": "stream",
     "text": [
      "Account balance is: ₹95000000\n"
     ]
    }
   ],
   "source": [
    "x.statement()"
   ]
  },
  {
   "cell_type": "code",
   "execution_count": 27,
   "id": "f8149a98",
   "metadata": {},
   "outputs": [],
   "source": [
    "x.withdraw(9500)"
   ]
  },
  {
   "cell_type": "code",
   "execution_count": 28,
   "id": "9148cf8b",
   "metadata": {},
   "outputs": [
    {
     "name": "stdout",
     "output_type": "stream",
     "text": [
      "Account balance is: ₹94990500\n"
     ]
    }
   ],
   "source": [
    "x.statement()"
   ]
  },
  {
   "cell_type": "code",
   "execution_count": 29,
   "id": "2f27efa0",
   "metadata": {},
   "outputs": [
    {
     "name": "stdout",
     "output_type": "stream",
     "text": [
      "Not enough funds\n"
     ]
    }
   ],
   "source": [
    "x.withdraw(9500000000000000)"
   ]
  },
  {
   "cell_type": "code",
   "execution_count": 32,
   "id": "24962de0",
   "metadata": {},
   "outputs": [],
   "source": [
    "class savings(Account):\n",
    "    def __init__(self, name, balance):\n",
    "        super().__init__(name, balance, min_balance= 0)"
   ]
  },
  {
   "cell_type": "code",
   "execution_count": 39,
   "id": "fc969cca",
   "metadata": {},
   "outputs": [],
   "source": [
    "k= savings(\"Krishna\", 1000008005505005050)"
   ]
  },
  {
   "cell_type": "code",
   "execution_count": 40,
   "id": "d44bab0b",
   "metadata": {},
   "outputs": [
    {
     "name": "stdout",
     "output_type": "stream",
     "text": [
      "Account balance is: ₹1000008005505005050\n"
     ]
    }
   ],
   "source": [
    "k.statement()"
   ]
  },
  {
   "cell_type": "code",
   "execution_count": 49,
   "id": "1cbc8ae1",
   "metadata": {},
   "outputs": [],
   "source": [
    "k.withdraw(56444444464)"
   ]
  },
  {
   "cell_type": "code",
   "execution_count": 50,
   "id": "3c2a77c5",
   "metadata": {},
   "outputs": [
    {
     "name": "stdout",
     "output_type": "stream",
     "text": [
      "Account balance is: ₹1000007051190772709\n"
     ]
    }
   ],
   "source": [
    "k.statement()"
   ]
  }
 ],
 "metadata": {
  "kernelspec": {
   "display_name": "Python 3",
   "language": "python",
   "name": "python3"
  },
  "language_info": {
   "codemirror_mode": {
    "name": "ipython",
    "version": 3
   },
   "file_extension": ".py",
   "mimetype": "text/x-python",
   "name": "python",
   "nbconvert_exporter": "python",
   "pygments_lexer": "ipython3",
   "version": "3.8.8"
  }
 },
 "nbformat": 4,
 "nbformat_minor": 5
}
