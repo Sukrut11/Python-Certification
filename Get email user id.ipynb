{
 "cells": [
  {
   "cell_type": "code",
   "execution_count": null,
   "metadata": {},
   "outputs": [],
   "source": [
    "#get email user id#\n",
    "email=input(\"What is your email id? \")\n",
    "#Slice out user name#\n",
    "user=email[:email.index(\"@\")]\n",
    "#Slice domain name#\n",
    "domain=email[email.index(\"@\")+1:]\n",
    "#format message#\n",
    "output=\"Your name is {} and your domain name is {}\".format(user,domain)\n",
    "#Display output message#\n",
    "print(output)"
   ]
  }
 ],
 "metadata": {
  "kernelspec": {
   "display_name": "Python 3",
   "language": "python",
   "name": "python3"
  },
  "language_info": {
   "codemirror_mode": {
    "name": "ipython",
    "version": 3
   },
   "file_extension": ".py",
   "mimetype": "text/x-python",
   "name": "python",
   "nbconvert_exporter": "python",
   "pygments_lexer": "ipython3",
   "version": "3.8.5"
  }
 },
 "nbformat": 4,
 "nbformat_minor": 4
}
